{
 "cells": [
  {
   "cell_type": "code",
   "execution_count": null,
   "metadata": {},
   "outputs": [],
   "source": [
    "import pandas as pd\n",
    "import numpy as np\n",
    "import matplotlib.pyplot as plt\n",
    "%matplotlib inline\n",
    "import seaborn as sns\n",
    "from IPython import get_ipython\n",
    "import warnings\n",
    "warnings.filterwarnings(\"ignore\")\n"
   ]
  },
  {
   "cell_type": "code",
   "execution_count": null,
   "metadata": {},
   "outputs": [],
   "source": [
    "data = pd.read_csv('adults.txt')"
   ]
  },
  {
   "cell_type": "code",
   "execution_count": null,
   "metadata": {},
   "outputs": [],
   "source": [
    "data.head()"
   ]
  },
  {
   "cell_type": "code",
   "execution_count": null,
   "metadata": {},
   "outputs": [],
   "source": [
    "data.tail()"
   ]
  },
  {
   "cell_type": "code",
   "execution_count": null,
   "metadata": {},
   "outputs": [],
   "source": [
    "data.shape"
   ]
  },
  {
   "cell_type": "code",
   "execution_count": null,
   "metadata": {},
   "outputs": [],
   "source": [
    "data.columns"
   ]
  },
  {
   "cell_type": "code",
   "execution_count": null,
   "metadata": {},
   "outputs": [],
   "source": [
    "data.duplicated().sum()"
   ]
  },
  {
   "cell_type": "code",
   "execution_count": null,
   "metadata": {},
   "outputs": [],
   "source": [
    "data = data.drop_duplicates()"
   ]
  },
  {
   "cell_type": "code",
   "execution_count": null,
   "metadata": {},
   "outputs": [],
   "source": [
    "data.isnull().sum()"
   ]
  },
  {
   "cell_type": "code",
   "execution_count": null,
   "metadata": {},
   "outputs": [],
   "source": [
    "data.info()"
   ]
  },
  {
   "cell_type": "code",
   "execution_count": null,
   "metadata": {},
   "outputs": [],
   "source": [
    "data.describe()"
   ]
  },
  {
   "cell_type": "code",
   "execution_count": null,
   "metadata": {},
   "outputs": [],
   "source": [
    "data.nunique()"
   ]
  },
  {
   "cell_type": "code",
   "execution_count": null,
   "metadata": {},
   "outputs": [],
   "source": [
    "data = data.drop(['fnlwgt', 'educational-num'], axis=1)\n",
    "col_names = data.columns\n",
    "for c in col_names: \n",
    "    data = data.replace(\"?\", np.NaN)\n",
    "    \n",
    "data = data.apply(lambda x: x.fillna(x.value_counts().index[0]))"
   ]
  },
  {
   "cell_type": "code",
   "execution_count": null,
   "metadata": {},
   "outputs": [],
   "source": [
    "from sklearn import preprocessing"
   ]
  },
  {
   "cell_type": "code",
   "execution_count": null,
   "metadata": {},
   "outputs": [],
   "source": [
    "data.replace(['Divorced', \n",
    "              'Married-AF-spouse',\n",
    "              'Married-civ-spouse', \n",
    "              'Married-spouse-absent', \n",
    "              'Never-married', 'Separated',\n",
    "              'Widowed'],\n",
    "             \n",
    "             ['divorced',\n",
    "              'married',\n",
    "              'married',\n",
    "              'married', \n",
    "              'not married',\n",
    "              'not married', \n",
    "              'not married'], \n",
    "             \n",
    "             inplace=True)\n",
    "\n",
    "category_col = ['workclass', 'race', 'education', \n",
    "                'marital-status', 'occupation',\n",
    "                'relationship', 'gender', 'native-country', \n",
    "                'income']\n",
    "\n",
    "labelEncoder = preprocessing.LabelEncoder()\n",
    "mapping_dict = {}\n",
    "for col in category_col: \n",
    "    data[col] = labelEncoder.fit_transform(data[col]) \n",
    "\n",
    "    le_name_mapping = dict(zip(labelEncoder.classes_, \n",
    "                               labelEncoder.transform(labelEncoder.classes_)))   \n",
    "    \n",
    "    mapping_dict[col] = le_name_mapping\n",
    "\n",
    "print(mapping_dict)"
   ]
  },
  {
   "cell_type": "code",
   "execution_count": null,
   "metadata": {},
   "outputs": [],
   "source": [
    "from sklearn.model_selection import train_test_split\n",
    "from sklearn.tree import DecisionTreeClassifier\n",
    "from sklearn.metrics import accuracy_score"
   ]
  },
  {
   "cell_type": "code",
   "execution_count": null,
   "metadata": {},
   "outputs": [],
   "source": [
    "X = data.values[:, 0:12]\n",
    "Y = data.values[:, 12]"
   ]
  },
  {
   "cell_type": "code",
   "execution_count": null,
   "metadata": {},
   "outputs": [],
   "source": [
    "X_train, X_test, y_train, y_test = train_test_split( X, Y, \n",
    "                                                    test_size = 0.3,\n",
    "                                                    random_state = 100) \n",
    "\n",
    "dt_clf_gini = DecisionTreeClassifier(criterion = \"gini\", \n",
    "                                     random_state = 100, \n",
    "                                     max_depth = 5, \n",
    "                                     min_samples_leaf = 5) \n",
    "\n",
    "dt_clf_gini.fit(X_train, y_train)\n",
    "y_pred_gini = dt_clf_gini.predict(X_test) \n",
    "print (\"Decision Tree using Gini Index\\nAccuracy is \", accuracy_score(y_test, y_pred_gini)*100 )"
   ]
  },
  {
   "cell_type": "code",
   "execution_count": null,
   "metadata": {},
   "outputs": [],
   "source": [
    "from flask import * \n",
    "import pickle\n",
    "app = Flask(__name__)\n",
    "\n",
    "# prediction function\n",
    "def ValuePredictor(to_predict_list): \n",
    "    to_predict = np.array(to_predict_list).reshape(1, 12) \n",
    "    loaded_model = pickle.load(open(\"model.pkl\", \"rb\")) \n",
    "    result = loaded_model.predict(to_predict) \n",
    "    return result[0]\n",
    "\n",
    "@app.route('/result', methods = ['POST'])\n",
    "def result(): \n",
    "    if request.method == 'POST': \n",
    "        to_predict_list = request.form.to_dict() \n",
    "        to_predict_list = list(to_predict_list.values()) \n",
    "        to_predict_list = list(map(int, to_predict_list)) \n",
    "        result = ValuePredictor(to_predict_list) \n",
    "        \n",
    "        if int(result)== 1: \n",
    "            prediction ='Income more than 50K' \n",
    "        else: \n",
    "            prediction ='Income less that 50K' \n",
    "\n",
    "        return render_template(\"result.html\", prediction = prediction)\n",
    "if __name__ == '__main__': \n",
    "    app.run(debug = True)"
   ]
  }
 ],
 "metadata": {
  "language_info": {
   "name": "python"
  },
  "orig_nbformat": 4
 },
 "nbformat": 4,
 "nbformat_minor": 2
}
