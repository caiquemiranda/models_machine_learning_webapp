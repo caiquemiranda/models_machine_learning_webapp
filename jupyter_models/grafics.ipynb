{
 "cells": [
  {
   "cell_type": "code",
   "execution_count": 2,
   "metadata": {},
   "outputs": [
    {
     "name": "stdout",
     "output_type": "stream",
     "text": [
      "[*********************100%***********************]  1 of 1 completed\n"
     ]
    },
    {
     "data": {
      "text/html": [
       "\n",
       "        <iframe\n",
       "            width=\"100%\"\n",
       "            height=\"650\"\n",
       "            src=\"http://127.0.0.1:8050/\"\n",
       "            frameborder=\"0\"\n",
       "            allowfullscreen\n",
       "            \n",
       "        ></iframe>\n",
       "        "
      ],
      "text/plain": [
       "<IPython.lib.display.IFrame at 0x1fc2c9acbe0>"
      ]
     },
     "metadata": {},
     "output_type": "display_data"
    }
   ],
   "source": [
    "import dash\n",
    "from dash import dcc, html\n",
    "from dash.dependencies import Input, Output\n",
    "import plotly.graph_objs as go\n",
    "import yfinance as yf\n",
    "import dash_bootstrap_components as dbc\n",
    "\n",
    "# Definir o ticker da ação (substitua \"AAPL\" pelo ticker da ação de sua escolha)\n",
    "ticker = \"AAPL\"\n",
    "\n",
    "# Obter dados financeiros da ação utilizando a biblioteca yfinance\n",
    "dados_acao = yf.download(ticker, start=\"2022-01-01\", end=\"2023-01-01\")\n",
    "\n",
    "# Criar o gráfico de candlesticks\n",
    "grafico_candlestick = go.Figure(data=[go.Candlestick(x=dados_acao.index,\n",
    "                                                    open=dados_acao['Open'],\n",
    "                                                    high=dados_acao['High'],\n",
    "                                                    low=dados_acao['Low'],\n",
    "                                                    close=dados_acao['Close'])])\n",
    "\n",
    "# Personalizar o layout do gráfico\n",
    "grafico_candlestick.update_layout(\n",
    "    title=f'Gráfico de Candlesticks - Ação {ticker}',\n",
    "    xaxis_title='Data',\n",
    "    yaxis_title='Preço',\n",
    "    template='plotly_dark'  # Utilizar o tema \"Slate\"\n",
    ")\n",
    "\n",
    "# Inicializar a aplicação Dash\n",
    "app = dash.Dash(__name__, external_stylesheets=[dbc.themes.BOOTSTRAP])\n",
    "\n",
    "# Definir layout da aplicação\n",
    "app.layout = dbc.Container([\n",
    "    html.H1(children=f'Gráfico de Candlesticks - Ação {ticker}', className='title is-1', style={'textAlign': 'center'}),\n",
    "    dcc.Graph(\n",
    "        id='grafico-candlestick',\n",
    "        figure=grafico_candlestick\n",
    "    )\n",
    "])\n",
    "\n",
    "if __name__ == '__main__':\n",
    "    app.run_server(debug=True)"
   ]
  },
  {
   "cell_type": "code",
   "execution_count": null,
   "metadata": {},
   "outputs": [],
   "source": []
  }
 ],
 "metadata": {
  "kernelspec": {
   "display_name": "Python 3",
   "language": "python",
   "name": "python3"
  },
  "language_info": {
   "codemirror_mode": {
    "name": "ipython",
    "version": 3
   },
   "file_extension": ".py",
   "mimetype": "text/x-python",
   "name": "python",
   "nbconvert_exporter": "python",
   "pygments_lexer": "ipython3",
   "version": "3.10.5"
  },
  "orig_nbformat": 4
 },
 "nbformat": 4,
 "nbformat_minor": 2
}
