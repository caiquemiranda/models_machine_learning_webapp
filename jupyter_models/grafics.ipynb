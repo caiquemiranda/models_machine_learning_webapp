{
 "cells": [
  {
   "cell_type": "code",
   "execution_count": 2,
   "metadata": {},
   "outputs": [
    {
     "name": "stdout",
     "output_type": "stream",
     "text": [
      "[*********************100%***********************]  1 of 1 completed\n"
     ]
    },
    {
     "data": {
      "text/html": [
       "\n",
       "        <iframe\n",
       "            width=\"100%\"\n",
       "            height=\"650\"\n",
       "            src=\"http://127.0.0.1:8050/\"\n",
       "            frameborder=\"0\"\n",
       "            allowfullscreen\n",
       "            \n",
       "        ></iframe>\n",
       "        "
      ],
      "text/plain": [
       "<IPython.lib.display.IFrame at 0x1fc2c9acbe0>"
      ]
     },
     "metadata": {},
     "output_type": "display_data"
    }
   ],
   "source": [
    "import dash\n",
    "from dash import dcc, html\n",
    "from dash.dependencies import Input, Output\n",
    "import plotly.graph_objs as go\n",
    "import yfinance as yf\n",
    "import dash_bootstrap_components as dbc\n",
    "\n",
    "# Definir o ticker da ação (substitua \"AAPL\" pelo ticker da ação de sua escolha)\n",
    "ticker = \"AAPL\"\n",
    "\n",
    "# Obter dados financeiros da ação utilizando a biblioteca yfinance\n",
    "dados_acao = yf.download(ticker, start=\"2022-01-01\", end=\"2023-01-01\")\n",
    "\n",
    "# Criar o gráfico de candlesticks\n",
    "grafico_candlestick = go.Figure(data=[go.Candlestick(x=dados_acao.index,\n",
    "                                                    open=dados_acao['Open'],\n",
    "                                                    high=dados_acao['High'],\n",
    "                                                    low=dados_acao['Low'],\n",
    "                                                    close=dados_acao['Close'])])\n",
    "\n",
    "# Personalizar o layout do gráfico\n",
    "grafico_candlestick.update_layout(\n",
    "    title=f'Gráfico de Candlesticks - Ação {ticker}',\n",
    "    xaxis_title='Data',\n",
    "    yaxis_title='Preço',\n",
    "    template='plotly_dark'  # Utilizar o tema \"Slate\"\n",
    ")\n",
    "\n",
    "# Inicializar a aplicação Dash\n",
    "app = dash.Dash(__name__, external_stylesheets=[dbc.themes.BOOTSTRAP])\n",
    "\n",
    "# Definir layout da aplicação\n",
    "app.layout = dbc.Container([\n",
    "    html.H1(children=f'Gráfico de Candlesticks - Ação {ticker}', className='title is-1', style={'textAlign': 'center'}),\n",
    "    dcc.Graph(\n",
    "        id='grafico-candlestick',\n",
    "        figure=grafico_candlestick\n",
    "    )\n",
    "])\n",
    "\n",
    "if __name__ == '__main__':\n",
    "    app.run_server(debug=True)"
   ]
  },
  {
   "cell_type": "code",
   "execution_count": 4,
   "metadata": {},
   "outputs": [
    {
     "ename": "OSError",
     "evalue": "Address 'http://127.0.0.1:8050' already in use.\n    Try passing a different port to run_server.",
     "output_type": "error",
     "traceback": [
      "\u001b[1;31m---------------------------------------------------------------------------\u001b[0m",
      "\u001b[1;31mOSError\u001b[0m                                   Traceback (most recent call last)",
      "\u001b[1;32md:\\GIT-repository\\githhbu-models_machine_learning_webapp\\models_machine_learning_webapp\\jupyter_models\\grafics.ipynb Cell 2\u001b[0m in \u001b[0;36m<cell line: 55>\u001b[1;34m()\u001b[0m\n\u001b[0;32m     <a href='vscode-notebook-cell:/d%3A/GIT-repository/githhbu-models_machine_learning_webapp/models_machine_learning_webapp/jupyter_models/grafics.ipynb#W1sZmlsZQ%3D%3D?line=52'>53</a>\u001b[0m     \u001b[39mreturn\u001b[39;00m grafico\n\u001b[0;32m     <a href='vscode-notebook-cell:/d%3A/GIT-repository/githhbu-models_machine_learning_webapp/models_machine_learning_webapp/jupyter_models/grafics.ipynb#W1sZmlsZQ%3D%3D?line=54'>55</a>\u001b[0m \u001b[39mif\u001b[39;00m \u001b[39m__name__\u001b[39m \u001b[39m==\u001b[39m \u001b[39m'\u001b[39m\u001b[39m__main__\u001b[39m\u001b[39m'\u001b[39m:\n\u001b[1;32m---> <a href='vscode-notebook-cell:/d%3A/GIT-repository/githhbu-models_machine_learning_webapp/models_machine_learning_webapp/jupyter_models/grafics.ipynb#W1sZmlsZQ%3D%3D?line=55'>56</a>\u001b[0m     app\u001b[39m.\u001b[39;49mrun_server(debug\u001b[39m=\u001b[39;49m\u001b[39mTrue\u001b[39;49;00m)\n",
      "File \u001b[1;32mc:\\Users\\Caíque Miranda\\AppData\\Local\\Programs\\Python\\Python310\\lib\\site-packages\\dash\\dash.py:2098\u001b[0m, in \u001b[0;36mDash.run_server\u001b[1;34m(self, *args, **kwargs)\u001b[0m\n\u001b[0;32m   2092\u001b[0m \u001b[39mdef\u001b[39;00m \u001b[39mrun_server\u001b[39m(\u001b[39mself\u001b[39m, \u001b[39m*\u001b[39margs, \u001b[39m*\u001b[39m\u001b[39m*\u001b[39mkwargs):\n\u001b[0;32m   2093\u001b[0m     \u001b[39m\"\"\"`run_server` is a deprecated alias of `run` and may be removed in a\u001b[39;00m\n\u001b[0;32m   2094\u001b[0m \u001b[39m    future version. We recommend using `app.run` instead.\u001b[39;00m\n\u001b[0;32m   2095\u001b[0m \n\u001b[0;32m   2096\u001b[0m \u001b[39m    See `app.run` for usage information.\u001b[39;00m\n\u001b[0;32m   2097\u001b[0m \u001b[39m    \"\"\"\u001b[39;00m\n\u001b[1;32m-> 2098\u001b[0m     \u001b[39mself\u001b[39m\u001b[39m.\u001b[39mrun(\u001b[39m*\u001b[39margs, \u001b[39m*\u001b[39m\u001b[39m*\u001b[39mkwargs)\n",
      "File \u001b[1;32mc:\\Users\\Caíque Miranda\\AppData\\Local\\Programs\\Python\\Python310\\lib\\site-packages\\dash\\dash.py:1996\u001b[0m, in \u001b[0;36mDash.run\u001b[1;34m(self, host, port, proxy, debug, jupyter_mode, jupyter_width, jupyter_height, jupyter_server_url, dev_tools_ui, dev_tools_props_check, dev_tools_serve_dev_bundles, dev_tools_hot_reload, dev_tools_hot_reload_interval, dev_tools_hot_reload_watch_interval, dev_tools_hot_reload_max_retry, dev_tools_silence_routes_logging, dev_tools_prune_errors, **flask_run_options)\u001b[0m\n\u001b[0;32m   1993\u001b[0m             extra_files\u001b[39m.\u001b[39mappend(path)\n\u001b[0;32m   1995\u001b[0m \u001b[39mif\u001b[39;00m jupyter_dash\u001b[39m.\u001b[39mactive:\n\u001b[1;32m-> 1996\u001b[0m     jupyter_dash\u001b[39m.\u001b[39;49mrun_app(\n\u001b[0;32m   1997\u001b[0m         \u001b[39mself\u001b[39;49m,\n\u001b[0;32m   1998\u001b[0m         mode\u001b[39m=\u001b[39;49mjupyter_mode,\n\u001b[0;32m   1999\u001b[0m         width\u001b[39m=\u001b[39;49mjupyter_width,\n\u001b[0;32m   2000\u001b[0m         height\u001b[39m=\u001b[39;49mjupyter_height,\n\u001b[0;32m   2001\u001b[0m         host\u001b[39m=\u001b[39;49mhost,\n\u001b[0;32m   2002\u001b[0m         port\u001b[39m=\u001b[39;49mport,\n\u001b[0;32m   2003\u001b[0m         server_url\u001b[39m=\u001b[39;49mjupyter_server_url,\n\u001b[0;32m   2004\u001b[0m     )\n\u001b[0;32m   2005\u001b[0m \u001b[39melse\u001b[39;00m:\n\u001b[0;32m   2006\u001b[0m     \u001b[39mself\u001b[39m\u001b[39m.\u001b[39mserver\u001b[39m.\u001b[39mrun(host\u001b[39m=\u001b[39mhost, port\u001b[39m=\u001b[39mport, debug\u001b[39m=\u001b[39mdebug, \u001b[39m*\u001b[39m\u001b[39m*\u001b[39mflask_run_options)\n",
      "File \u001b[1;32mc:\\Users\\Caíque Miranda\\AppData\\Local\\Programs\\Python\\Python310\\lib\\site-packages\\dash\\_jupyter.py:401\u001b[0m, in \u001b[0;36mJupyterDash.run_app\u001b[1;34m(self, app, mode, width, height, host, port, server_url)\u001b[0m\n\u001b[0;32m    399\u001b[0m     display(HTML(msg))\n\u001b[0;32m    400\u001b[0m \u001b[39melse\u001b[39;00m:\n\u001b[1;32m--> 401\u001b[0m     \u001b[39mraise\u001b[39;00m final_error\n",
      "File \u001b[1;32mc:\\Users\\Caíque Miranda\\AppData\\Local\\Programs\\Python\\Python310\\lib\\site-packages\\dash\\_jupyter.py:388\u001b[0m, in \u001b[0;36mJupyterDash.run_app\u001b[1;34m(self, app, mode, width, height, host, port, server_url)\u001b[0m\n\u001b[0;32m    385\u001b[0m         \u001b[39mraise\u001b[39;00m err\n\u001b[0;32m    387\u001b[0m \u001b[39mtry\u001b[39;00m:\n\u001b[1;32m--> 388\u001b[0m     wait_for_app()\n\u001b[0;32m    390\u001b[0m     \u001b[39mif\u001b[39;00m \u001b[39mself\u001b[39m\u001b[39m.\u001b[39min_colab:\n\u001b[0;32m    391\u001b[0m         JupyterDash\u001b[39m.\u001b[39m_display_in_colab(dashboard_url, port, mode, width, height)\n",
      "File \u001b[1;32mc:\\Users\\Caíque Miranda\\AppData\\Local\\Programs\\Python\\Python310\\lib\\site-packages\\retrying.py:56\u001b[0m, in \u001b[0;36mretry.<locals>.wrap.<locals>.wrapped_f\u001b[1;34m(*args, **kw)\u001b[0m\n\u001b[0;32m     54\u001b[0m \u001b[39m@six\u001b[39m\u001b[39m.\u001b[39mwraps(f)\n\u001b[0;32m     55\u001b[0m \u001b[39mdef\u001b[39;00m \u001b[39mwrapped_f\u001b[39m(\u001b[39m*\u001b[39margs, \u001b[39m*\u001b[39m\u001b[39m*\u001b[39mkw):\n\u001b[1;32m---> 56\u001b[0m     \u001b[39mreturn\u001b[39;00m Retrying(\u001b[39m*\u001b[39mdargs, \u001b[39m*\u001b[39m\u001b[39m*\u001b[39mdkw)\u001b[39m.\u001b[39mcall(f, \u001b[39m*\u001b[39margs, \u001b[39m*\u001b[39m\u001b[39m*\u001b[39mkw)\n",
      "File \u001b[1;32mc:\\Users\\Caíque Miranda\\AppData\\Local\\Programs\\Python\\Python310\\lib\\site-packages\\retrying.py:266\u001b[0m, in \u001b[0;36mRetrying.call\u001b[1;34m(self, fn, *args, **kwargs)\u001b[0m\n\u001b[0;32m    263\u001b[0m \u001b[39mif\u001b[39;00m \u001b[39mself\u001b[39m\u001b[39m.\u001b[39mstop(attempt_number, delay_since_first_attempt_ms):\n\u001b[0;32m    264\u001b[0m     \u001b[39mif\u001b[39;00m \u001b[39mnot\u001b[39;00m \u001b[39mself\u001b[39m\u001b[39m.\u001b[39m_wrap_exception \u001b[39mand\u001b[39;00m attempt\u001b[39m.\u001b[39mhas_exception:\n\u001b[0;32m    265\u001b[0m         \u001b[39m# get() on an attempt with an exception should cause it to be raised, but raise just in case\u001b[39;00m\n\u001b[1;32m--> 266\u001b[0m         \u001b[39mraise\u001b[39;00m attempt\u001b[39m.\u001b[39;49mget()\n\u001b[0;32m    267\u001b[0m     \u001b[39melse\u001b[39;00m:\n\u001b[0;32m    268\u001b[0m         \u001b[39mraise\u001b[39;00m RetryError(attempt)\n",
      "File \u001b[1;32mc:\\Users\\Caíque Miranda\\AppData\\Local\\Programs\\Python\\Python310\\lib\\site-packages\\retrying.py:301\u001b[0m, in \u001b[0;36mAttempt.get\u001b[1;34m(self, wrap_exception)\u001b[0m\n\u001b[0;32m    299\u001b[0m         \u001b[39mraise\u001b[39;00m RetryError(\u001b[39mself\u001b[39m)\n\u001b[0;32m    300\u001b[0m     \u001b[39melse\u001b[39;00m:\n\u001b[1;32m--> 301\u001b[0m         six\u001b[39m.\u001b[39;49mreraise(\u001b[39mself\u001b[39;49m\u001b[39m.\u001b[39;49mvalue[\u001b[39m0\u001b[39;49m], \u001b[39mself\u001b[39;49m\u001b[39m.\u001b[39;49mvalue[\u001b[39m1\u001b[39;49m], \u001b[39mself\u001b[39;49m\u001b[39m.\u001b[39;49mvalue[\u001b[39m2\u001b[39;49m])\n\u001b[0;32m    302\u001b[0m \u001b[39melse\u001b[39;00m:\n\u001b[0;32m    303\u001b[0m     \u001b[39mreturn\u001b[39;00m \u001b[39mself\u001b[39m\u001b[39m.\u001b[39mvalue\n",
      "File \u001b[1;32mc:\\Users\\Caíque Miranda\\AppData\\Local\\Programs\\Python\\Python310\\lib\\site-packages\\six.py:719\u001b[0m, in \u001b[0;36mreraise\u001b[1;34m(tp, value, tb)\u001b[0m\n\u001b[0;32m    717\u001b[0m     \u001b[39mif\u001b[39;00m value\u001b[39m.\u001b[39m__traceback__ \u001b[39mis\u001b[39;00m \u001b[39mnot\u001b[39;00m tb:\n\u001b[0;32m    718\u001b[0m         \u001b[39mraise\u001b[39;00m value\u001b[39m.\u001b[39mwith_traceback(tb)\n\u001b[1;32m--> 719\u001b[0m     \u001b[39mraise\u001b[39;00m value\n\u001b[0;32m    720\u001b[0m \u001b[39mfinally\u001b[39;00m:\n\u001b[0;32m    721\u001b[0m     value \u001b[39m=\u001b[39m \u001b[39mNone\u001b[39;00m\n",
      "File \u001b[1;32mc:\\Users\\Caíque Miranda\\AppData\\Local\\Programs\\Python\\Python310\\lib\\site-packages\\retrying.py:251\u001b[0m, in \u001b[0;36mRetrying.call\u001b[1;34m(self, fn, *args, **kwargs)\u001b[0m\n\u001b[0;32m    248\u001b[0m     \u001b[39mself\u001b[39m\u001b[39m.\u001b[39m_before_attempts(attempt_number)\n\u001b[0;32m    250\u001b[0m \u001b[39mtry\u001b[39;00m:\n\u001b[1;32m--> 251\u001b[0m     attempt \u001b[39m=\u001b[39m Attempt(fn(\u001b[39m*\u001b[39margs, \u001b[39m*\u001b[39m\u001b[39m*\u001b[39mkwargs), attempt_number, \u001b[39mFalse\u001b[39;00m)\n\u001b[0;32m    252\u001b[0m \u001b[39mexcept\u001b[39;00m:\n\u001b[0;32m    253\u001b[0m     tb \u001b[39m=\u001b[39m sys\u001b[39m.\u001b[39mexc_info()\n",
      "File \u001b[1;32mc:\\Users\\Caíque Miranda\\AppData\\Local\\Programs\\Python\\Python310\\lib\\site-packages\\dash\\_jupyter.py:379\u001b[0m, in \u001b[0;36mJupyterDash.run_app.<locals>.wait_for_app\u001b[1;34m()\u001b[0m\n\u001b[0;32m    377\u001b[0m     \u001b[39mif\u001b[39;00m res \u001b[39m!=\u001b[39m \u001b[39m\"\u001b[39m\u001b[39mAlive\u001b[39m\u001b[39m\"\u001b[39m:\n\u001b[0;32m    378\u001b[0m         url \u001b[39m=\u001b[39m \u001b[39mf\u001b[39m\u001b[39m\"\u001b[39m\u001b[39mhttp://\u001b[39m\u001b[39m{\u001b[39;00mhost\u001b[39m}\u001b[39;00m\u001b[39m:\u001b[39m\u001b[39m{\u001b[39;00mport\u001b[39m}\u001b[39;00m\u001b[39m\"\u001b[39m\n\u001b[1;32m--> 379\u001b[0m         \u001b[39mraise\u001b[39;00m \u001b[39mOSError\u001b[39;00m(\n\u001b[0;32m    380\u001b[0m             \u001b[39mf\u001b[39m\u001b[39m\"\u001b[39m\u001b[39mAddress \u001b[39m\u001b[39m'\u001b[39m\u001b[39m{\u001b[39;00murl\u001b[39m}\u001b[39;00m\u001b[39m'\u001b[39m\u001b[39m already in use.\u001b[39m\u001b[39m\\n\u001b[39;00m\u001b[39m\"\u001b[39m\n\u001b[0;32m    381\u001b[0m             \u001b[39m\"\u001b[39m\u001b[39m    Try passing a different port to run_server.\u001b[39m\u001b[39m\"\u001b[39m\n\u001b[0;32m    382\u001b[0m         )\n\u001b[0;32m    383\u001b[0m \u001b[39mexcept\u001b[39;00m requests\u001b[39m.\u001b[39mConnectionError \u001b[39mas\u001b[39;00m err:\n\u001b[0;32m    384\u001b[0m     _get_error()\n",
      "\u001b[1;31mOSError\u001b[0m: Address 'http://127.0.0.1:8050' already in use.\n    Try passing a different port to run_server."
     ]
    }
   ],
   "source": [
    "import dash\n",
    "from dash import dcc, html\n",
    "from dash.dependencies import Input, Output\n",
    "import plotly.graph_objs as go\n",
    "import yfinance as yf\n",
    "import dash_bootstrap_components as dbc\n",
    "\n",
    "# Lista de tickers das ações disponíveis\n",
    "acoes_disponiveis = ['AAPL', 'MSFT', 'GOOGL', 'AMZN', 'FB']\n",
    "\n",
    "# Função para obter os dados financeiros de uma ação\n",
    "def obter_dados_acao(ticker):\n",
    "    dados_acao = yf.download(ticker, start=\"2022-01-01\", end=\"2023-01-01\")\n",
    "    return dados_acao\n",
    "\n",
    "# Função para criar o gráfico de candlesticks\n",
    "def criar_grafico_candlestick(dados_acao, ticker):\n",
    "    grafico = go.Figure(data=[go.Candlestick(x=dados_acao.index,\n",
    "                                            open=dados_acao['Open'],\n",
    "                                            high=dados_acao['High'],\n",
    "                                            low=dados_acao['Low'],\n",
    "                                            close=dados_acao['Close'])])\n",
    "\n",
    "    grafico.update_layout(\n",
    "        title=f'Gráfico de Candlesticks - Ação {ticker}',\n",
    "        xaxis_title='Data',\n",
    "        yaxis_title='Preço',\n",
    "        template='plotly_dark'  # Utilizar o tema \"Slate\"\n",
    "    )\n",
    "    \n",
    "    return grafico\n",
    "\n",
    "# Inicializar a aplicação Dash\n",
    "app = dash.Dash(__name__, external_stylesheets=[dbc.themes.BOOTSTRAP])\n",
    "\n",
    "# Definir layout da aplicação\n",
    "app.layout = dbc.Container([\n",
    "    html.H1(children='Gráfico de Candlesticks', className='title is-1', style={'textAlign': 'center'}),\n",
    "    dcc.Dropdown(\n",
    "        id='dropdown-acoes',\n",
    "        options=[{'label': ticker, 'value': ticker} for ticker in acoes_disponiveis],\n",
    "        value='AAPL'\n",
    "    ),\n",
    "    dcc.Graph(id='grafico-candlestick')\n",
    "])\n",
    "\n",
    "# Definir callback para atualizar o gráfico de acordo com a ação selecionada\n",
    "@app.callback(Output('grafico-candlestick', 'figure'),\n",
    "              [Input('dropdown-acoes', 'value')])\n",
    "def atualizar_grafico(ticker_selecionado):\n",
    "    dados_acao = obter_dados_acao(ticker_selecionado)\n",
    "    grafico = criar_grafico_candlestick(dados_acao, ticker_selecionado)\n",
    "    return grafico\n",
    "\n",
    "if __name__ == '__main__':\n",
    "    app.run_server(debug=True)\n"
   ]
  },
  {
   "cell_type": "code",
   "execution_count": null,
   "metadata": {},
   "outputs": [],
   "source": []
  }
 ],
 "metadata": {
  "kernelspec": {
   "display_name": "Python 3",
   "language": "python",
   "name": "python3"
  },
  "language_info": {
   "codemirror_mode": {
    "name": "ipython",
    "version": 3
   },
   "file_extension": ".py",
   "mimetype": "text/x-python",
   "name": "python",
   "nbconvert_exporter": "python",
   "pygments_lexer": "ipython3",
   "version": "3.10.5"
  },
  "orig_nbformat": 4
 },
 "nbformat": 4,
 "nbformat_minor": 2
}
