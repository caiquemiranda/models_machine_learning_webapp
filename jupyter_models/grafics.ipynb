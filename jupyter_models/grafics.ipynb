{
 "cells": [
  {
   "cell_type": "code",
   "execution_count": 1,
   "metadata": {},
   "outputs": [
    {
     "name": "stdout",
     "output_type": "stream",
     "text": [
      "[*********************100%***********************]  1 of 1 completed\n"
     ]
    },
    {
     "ename": "AttributeError",
     "evalue": "module 'dash_bootstrap_components.themes' has no attribute 'BULMA'",
     "output_type": "error",
     "traceback": [
      "\u001b[1;31m---------------------------------------------------------------------------\u001b[0m",
      "\u001b[1;31mAttributeError\u001b[0m                            Traceback (most recent call last)",
      "\u001b[1;32md:\\GIT-repository\\githhbu-models_machine_learning_webapp\\models_machine_learning_webapp\\jupyter_models\\grafics.ipynb Cell 1\u001b[0m in \u001b[0;36m<cell line: 30>\u001b[1;34m()\u001b[0m\n\u001b[0;32m     <a href='vscode-notebook-cell:/d%3A/GIT-repository/githhbu-models_machine_learning_webapp/models_machine_learning_webapp/jupyter_models/grafics.ipynb#W0sZmlsZQ%3D%3D?line=21'>22</a>\u001b[0m grafico_candlestick\u001b[39m.\u001b[39mupdate_layout(\n\u001b[0;32m     <a href='vscode-notebook-cell:/d%3A/GIT-repository/githhbu-models_machine_learning_webapp/models_machine_learning_webapp/jupyter_models/grafics.ipynb#W0sZmlsZQ%3D%3D?line=22'>23</a>\u001b[0m     title\u001b[39m=\u001b[39m\u001b[39mf\u001b[39m\u001b[39m'\u001b[39m\u001b[39mGráfico de Candlesticks - Ação \u001b[39m\u001b[39m{\u001b[39;00mticker\u001b[39m}\u001b[39;00m\u001b[39m'\u001b[39m,\n\u001b[0;32m     <a href='vscode-notebook-cell:/d%3A/GIT-repository/githhbu-models_machine_learning_webapp/models_machine_learning_webapp/jupyter_models/grafics.ipynb#W0sZmlsZQ%3D%3D?line=23'>24</a>\u001b[0m     xaxis_title\u001b[39m=\u001b[39m\u001b[39m'\u001b[39m\u001b[39mData\u001b[39m\u001b[39m'\u001b[39m,\n\u001b[0;32m     <a href='vscode-notebook-cell:/d%3A/GIT-repository/githhbu-models_machine_learning_webapp/models_machine_learning_webapp/jupyter_models/grafics.ipynb#W0sZmlsZQ%3D%3D?line=24'>25</a>\u001b[0m     yaxis_title\u001b[39m=\u001b[39m\u001b[39m'\u001b[39m\u001b[39mPreço\u001b[39m\u001b[39m'\u001b[39m,\n\u001b[0;32m     <a href='vscode-notebook-cell:/d%3A/GIT-repository/githhbu-models_machine_learning_webapp/models_machine_learning_webapp/jupyter_models/grafics.ipynb#W0sZmlsZQ%3D%3D?line=25'>26</a>\u001b[0m     template\u001b[39m=\u001b[39m\u001b[39m'\u001b[39m\u001b[39mplotly_dark\u001b[39m\u001b[39m'\u001b[39m  \u001b[39m# Utilizar o tema \"Slate\"\u001b[39;00m\n\u001b[0;32m     <a href='vscode-notebook-cell:/d%3A/GIT-repository/githhbu-models_machine_learning_webapp/models_machine_learning_webapp/jupyter_models/grafics.ipynb#W0sZmlsZQ%3D%3D?line=26'>27</a>\u001b[0m )\n\u001b[0;32m     <a href='vscode-notebook-cell:/d%3A/GIT-repository/githhbu-models_machine_learning_webapp/models_machine_learning_webapp/jupyter_models/grafics.ipynb#W0sZmlsZQ%3D%3D?line=28'>29</a>\u001b[0m \u001b[39m# Inicializar a aplicação Dash\u001b[39;00m\n\u001b[1;32m---> <a href='vscode-notebook-cell:/d%3A/GIT-repository/githhbu-models_machine_learning_webapp/models_machine_learning_webapp/jupyter_models/grafics.ipynb#W0sZmlsZQ%3D%3D?line=29'>30</a>\u001b[0m app \u001b[39m=\u001b[39m dash\u001b[39m.\u001b[39mDash(\u001b[39m__name__\u001b[39m, external_stylesheets\u001b[39m=\u001b[39m[dbc\u001b[39m.\u001b[39;49mthemes\u001b[39m.\u001b[39;49mBULMA])\n\u001b[0;32m     <a href='vscode-notebook-cell:/d%3A/GIT-repository/githhbu-models_machine_learning_webapp/models_machine_learning_webapp/jupyter_models/grafics.ipynb#W0sZmlsZQ%3D%3D?line=31'>32</a>\u001b[0m \u001b[39m# Definir layout da aplicação\u001b[39;00m\n\u001b[0;32m     <a href='vscode-notebook-cell:/d%3A/GIT-repository/githhbu-models_machine_learning_webapp/models_machine_learning_webapp/jupyter_models/grafics.ipynb#W0sZmlsZQ%3D%3D?line=32'>33</a>\u001b[0m app\u001b[39m.\u001b[39mlayout \u001b[39m=\u001b[39m dbc\u001b[39m.\u001b[39mContainer([\n\u001b[0;32m     <a href='vscode-notebook-cell:/d%3A/GIT-repository/githhbu-models_machine_learning_webapp/models_machine_learning_webapp/jupyter_models/grafics.ipynb#W0sZmlsZQ%3D%3D?line=33'>34</a>\u001b[0m     html\u001b[39m.\u001b[39mH1(children\u001b[39m=\u001b[39m\u001b[39mf\u001b[39m\u001b[39m'\u001b[39m\u001b[39mGráfico de Candlesticks - Ação \u001b[39m\u001b[39m{\u001b[39;00mticker\u001b[39m}\u001b[39;00m\u001b[39m'\u001b[39m, className\u001b[39m=\u001b[39m\u001b[39m'\u001b[39m\u001b[39mtitle is-1\u001b[39m\u001b[39m'\u001b[39m, style\u001b[39m=\u001b[39m{\u001b[39m'\u001b[39m\u001b[39mtextAlign\u001b[39m\u001b[39m'\u001b[39m: \u001b[39m'\u001b[39m\u001b[39mcenter\u001b[39m\u001b[39m'\u001b[39m}),\n\u001b[0;32m     <a href='vscode-notebook-cell:/d%3A/GIT-repository/githhbu-models_machine_learning_webapp/models_machine_learning_webapp/jupyter_models/grafics.ipynb#W0sZmlsZQ%3D%3D?line=34'>35</a>\u001b[0m     dcc\u001b[39m.\u001b[39mGraph(\n\u001b[1;32m   (...)\u001b[0m\n\u001b[0;32m     <a href='vscode-notebook-cell:/d%3A/GIT-repository/githhbu-models_machine_learning_webapp/models_machine_learning_webapp/jupyter_models/grafics.ipynb#W0sZmlsZQ%3D%3D?line=37'>38</a>\u001b[0m     )\n\u001b[0;32m     <a href='vscode-notebook-cell:/d%3A/GIT-repository/githhbu-models_machine_learning_webapp/models_machine_learning_webapp/jupyter_models/grafics.ipynb#W0sZmlsZQ%3D%3D?line=38'>39</a>\u001b[0m ])\n",
      "\u001b[1;31mAttributeError\u001b[0m: module 'dash_bootstrap_components.themes' has no attribute 'BULMA'"
     ]
    }
   ],
   "source": [
    "import dash\n",
    "from dash import dcc, html\n",
    "from dash.dependencies import Input, Output\n",
    "import plotly.graph_objs as go\n",
    "import yfinance as yf\n",
    "import dash_bootstrap_components as dbc\n",
    "\n",
    "# Definir o ticker da ação (substitua \"AAPL\" pelo ticker da ação de sua escolha)\n",
    "ticker = \"AAPL\"\n",
    "\n",
    "# Obter dados financeiros da ação utilizando a biblioteca yfinance\n",
    "dados_acao = yf.download(ticker, start=\"2022-01-01\", end=\"2023-01-01\")\n",
    "\n",
    "# Criar o gráfico de candlesticks\n",
    "grafico_candlestick = go.Figure(data=[go.Candlestick(x=dados_acao.index,\n",
    "                                                    open=dados_acao['Open'],\n",
    "                                                    high=dados_acao['High'],\n",
    "                                                    low=dados_acao['Low'],\n",
    "                                                    close=dados_acao['Close'])])\n",
    "\n",
    "# Personalizar o layout do gráfico\n",
    "grafico_candlestick.update_layout(\n",
    "    title=f'Gráfico de Candlesticks - Ação {ticker}',\n",
    "    xaxis_title='Data',\n",
    "    yaxis_title='Preço',\n",
    "    template='plotly_dark'  # Utilizar o tema \"Slate\"\n",
    ")\n",
    "\n",
    "# Inicializar a aplicação Dash\n",
    "app = dash.Dash(__name__, external_stylesheets=[dbc.themes.BULMA])\n",
    "\n",
    "# Definir layout da aplicação\n",
    "app.layout = dbc.Container([\n",
    "    html.H1(children=f'Gráfico de Candlesticks - Ação {ticker}', className='title is-1', style={'textAlign': 'center'}),\n",
    "    dcc.Graph(\n",
    "        id='grafico-candlestick',\n",
    "        figure=grafico_candlestick\n",
    "    )\n",
    "])\n",
    "\n",
    "if __name__ == '__main__':\n",
    "    app.run_server(debug=True)"
   ]
  },
  {
   "cell_type": "code",
   "execution_count": null,
   "metadata": {},
   "outputs": [],
   "source": []
  }
 ],
 "metadata": {
  "kernelspec": {
   "display_name": "Python 3",
   "language": "python",
   "name": "python3"
  },
  "language_info": {
   "codemirror_mode": {
    "name": "ipython",
    "version": 3
   },
   "file_extension": ".py",
   "mimetype": "text/x-python",
   "name": "python",
   "nbconvert_exporter": "python",
   "pygments_lexer": "ipython3",
   "version": "3.10.5"
  },
  "orig_nbformat": 4
 },
 "nbformat": 4,
 "nbformat_minor": 2
}
