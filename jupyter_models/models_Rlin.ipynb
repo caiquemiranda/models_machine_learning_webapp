{
 "cells": [
  {
   "cell_type": "code",
   "execution_count": null,
   "metadata": {},
   "outputs": [],
   "source": [
    "%reload_ext watermark\n",
    "%watermark -a \"Caique Miranda\" -gu \"caiquemiranda\" -iv"
   ]
  },
  {
   "cell_type": "markdown",
   "metadata": {},
   "source": [
    "### Modelos Regressão Linear"
   ]
  },
  {
   "cell_type": "code",
   "execution_count": 1,
   "metadata": {},
   "outputs": [
    {
     "name": "stdout",
     "output_type": "stream",
     "text": [
      "Coeficiente Angular: 0.6\n",
      "Intercepto: 2.2\n"
     ]
    }
   ],
   "source": [
    "# Importar as bibliotecas necessárias\n",
    "from sklearn.linear_model import LinearRegression\n",
    "import numpy as np\n",
    "\n",
    "# Dados de exemplo (substitua estes dados pelos seus próprios dados)\n",
    "X = np.array([1, 2, 3, 4, 5]).reshape(-1, 1)\n",
    "y = np.array([2, 4, 5, 4, 5])\n",
    "\n",
    "# Criar o modelo de regressão linear\n",
    "modelo = LinearRegression()\n",
    "\n",
    "# Treinar o modelo\n",
    "modelo.fit(X, y)\n",
    "\n",
    "# Fazer previsões\n",
    "predicoes = modelo.predict(X)\n",
    "\n",
    "# Coeficientes da regressão\n",
    "coeficiente_angular = modelo.coef_[0]\n",
    "intercepto = modelo.intercept_\n",
    "\n",
    "# Imprimir os resultados\n",
    "print(\"Coeficiente Angular:\", coeficiente_angular)\n",
    "print(\"Intercepto:\", intercepto)"
   ]
  },
  {
   "attachments": {},
   "cell_type": "markdown",
   "metadata": {},
   "source": [
    "### Fim."
   ]
  }
 ],
 "metadata": {
  "kernelspec": {
   "display_name": "Python 3",
   "language": "python",
   "name": "python3"
  },
  "language_info": {
   "codemirror_mode": {
    "name": "ipython",
    "version": 3
   },
   "file_extension": ".py",
   "mimetype": "text/x-python",
   "name": "python",
   "nbconvert_exporter": "python",
   "pygments_lexer": "ipython3",
   "version": "3.10.5"
  },
  "orig_nbformat": 4
 },
 "nbformat": 4,
 "nbformat_minor": 2
}
