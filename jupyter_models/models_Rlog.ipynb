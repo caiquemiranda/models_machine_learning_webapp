{
 "cells": [
  {
   "cell_type": "code",
   "execution_count": null,
   "metadata": {},
   "outputs": [],
   "source": [
    "%reload_ext watermark\n",
    "%watermark -a \"Caique Miranda\" -gu \"caiquemiranda\" -iv"
   ]
  },
  {
   "cell_type": "markdown",
   "metadata": {},
   "source": [
    "### Modelos Regressão Logistica"
   ]
  },
  {
   "cell_type": "code",
   "execution_count": null,
   "metadata": {},
   "outputs": [],
   "source": [
    "from sklearn.linear_model import LogisticRegression\n",
    "\n",
    "# Dados de treinamento (X_train) e seus respectivos rótulos (y_train)\n",
    "X_train = [[valor1], [valor2], [valor3], ...]\n",
    "y_train = [rotulo1, rotulo2, rotulo3, ...]\n",
    "\n",
    "# Criando o modelo de regressão logística e treinando-o\n",
    "modelo = LogisticRegression()\n",
    "modelo.fit(X_train, y_train)\n",
    "\n",
    "# Dados de teste (X_test) para fazer previsões\n",
    "X_test = [[valor_teste1], [valor_teste2], [valor_teste3], ...]\n",
    "\n",
    "# Realizando as previsões usando o modelo treinado\n",
    "previsoes = modelo.predict(X_test)"
   ]
  },
  {
   "attachments": {},
   "cell_type": "markdown",
   "metadata": {},
   "source": [
    "### Fim."
   ]
  }
 ],
 "metadata": {
  "language_info": {
   "name": "python"
  },
  "orig_nbformat": 4
 },
 "nbformat": 4,
 "nbformat_minor": 2
}
