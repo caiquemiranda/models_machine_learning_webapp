{
 "cells": [
  {
   "cell_type": "code",
   "execution_count": 1,
   "metadata": {},
   "outputs": [
    {
     "name": "stderr",
     "output_type": "stream",
     "text": [
      "C:\\Users\\Caíque Miranda\\AppData\\Local\\Temp\\ipykernel_14224\\1903909856.py:4: UserWarning: \n",
      "The dash_core_components package is deprecated. Please replace\n",
      "`import dash_core_components as dcc` with `from dash import dcc`\n",
      "  import dash_core_components as dcc\n",
      "C:\\Users\\Caíque Miranda\\AppData\\Local\\Temp\\ipykernel_14224\\1903909856.py:5: UserWarning: \n",
      "The dash_html_components package is deprecated. Please replace\n",
      "`import dash_html_components as html` with `from dash import html`\n",
      "  import dash_html_components as html\n"
     ]
    },
    {
     "name": "stdout",
     "output_type": "stream",
     "text": [
      "[*********************100%***********************]  2 of 2 completed\n"
     ]
    }
   ],
   "source": [
    "import yfinance as yf\n",
    "import dash\n",
    "import dash_bootstrap_components as dbc\n",
    "import dash_core_components as dcc\n",
    "import dash_html_components as html\n",
    "import plotly.graph_objs as go\n",
    "from dash.dependencies import Input, Output\n",
    "\n",
    "# Ações para análise\n",
    "acoes = ['AAPL', 'MSFT']\n",
    "\n",
    "# Obtendo os dados históricos das ações\n",
    "dados_acoes = yf.download(acoes, start='2022-01-01', end='2023-01-01')\n",
    "\n",
    "# Criando o aplicativo Flask com Dash\n",
    "app = dash.Dash(__name__, external_stylesheets=[dbc.themes.BOOTSTRAP])\n",
    "\n",
    "# Layout do aplicativo\n",
    "app.layout = html.Div([\n",
    "    html.H1(\"Gráfico de Candles das Ações AAPL e MSFT\"),\n",
    "    dcc.Graph(id='candlestick-plot')\n",
    "])\n",
    "\n",
    "@app.callback(\n",
    "    Output('candlestick-plot', 'figure'),\n",
    "    [Input('candlestick-plot', 'relayoutData')]\n",
    ")\n",
    "def update_candlestick_plot(relayout_data):\n",
    "    return {\n",
    "        'data': [\n",
    "            go.Candlestick(\n",
    "                x=dados_acoes.index,\n",
    "                open=dados_acoes[acao]['Open'],\n",
    "                high=dados_acoes[acao]['High'],\n",
    "                low=dados_acoes[acao]['Low'],\n",
    "                close=dados_acoes[acao]['Adj Close'],\n",
    "                name=acao\n",
    "            )\n",
    "            for acao in acoes\n",
    "        ],\n",
    "        'layout': {\n",
    "            'title': 'Gráfico de Candles das Ações AAPL e MSFT',\n",
    "            'xaxis': {'title': 'Data'},\n",
    "            'yaxis': {'title': 'Preço de Fechamento'}\n",
    "        }\n",
    "    }\n",
    "\n",
    "if __name__ == '__main__':\n",
    "    app.run_server(debug=True)\n"
   ]
  },
  {
   "cell_type": "code",
   "execution_count": null,
   "metadata": {},
   "outputs": [],
   "source": []
  }
 ],
 "metadata": {
  "kernelspec": {
   "display_name": "Python 3",
   "language": "python",
   "name": "python3"
  },
  "language_info": {
   "codemirror_mode": {
    "name": "ipython",
    "version": 3
   },
   "file_extension": ".py",
   "mimetype": "text/x-python",
   "name": "python",
   "nbconvert_exporter": "python",
   "pygments_lexer": "ipython3",
   "version": "3.10.5"
  },
  "orig_nbformat": 4
 },
 "nbformat": 4,
 "nbformat_minor": 2
}
