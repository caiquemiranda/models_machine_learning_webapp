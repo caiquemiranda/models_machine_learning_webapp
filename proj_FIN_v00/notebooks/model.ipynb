{
 "cells": [
  {
   "cell_type": "code",
   "execution_count": null,
   "metadata": {},
   "outputs": [],
   "source": [
    "import yfinance as yf\n",
    "import dash\n",
    "import dash_bootstrap_components as dbc\n",
    "import dash_core_components as dcc\n",
    "import dash_html_components as html\n",
    "import plotly.graph_objs as go\n",
    "from dash.dependencies import Input, Output\n",
    "\n",
    "# Ações para análise\n",
    "acoes = ['AAPL', 'MSFT']\n",
    "\n",
    "# Obtendo os dados históricos das ações\n",
    "dados_acoes = yf.download(acoes, start='2022-01-01', end='2023-01-01')\n",
    "\n",
    "# Criando o aplicativo Flask com Dash\n",
    "app = dash.Dash(__name__, external_stylesheets=[dbc.themes.BOOTSTRAP])\n",
    "\n",
    "# Layout do aplicativo\n",
    "app.layout = html.Div([\n",
    "    html.H1(\"Gráfico de Candles das Ações AAPL e MSFT\"),\n",
    "    dcc.Graph(id='candlestick-plot')\n",
    "])\n",
    "\n",
    "@app.callback(\n",
    "    Output('candlestick-plot', 'figure'),\n",
    "    [Input('candlestick-plot', 'relayoutData')]\n",
    ")\n",
    "def update_candlestick_plot(relayout_data):\n",
    "    return {\n",
    "        'data': [\n",
    "            go.Candlestick(\n",
    "                x=dados_acoes.index,\n",
    "                open=dados_acoes[acao]['Open'],\n",
    "                high=dados_acoes[acao]['High'],\n",
    "                low=dados_acoes[acao]['Low'],\n",
    "                close=dados_acoes[acao]['Adj Close'],\n",
    "                name=acao\n",
    "            )\n",
    "            for acao in acoes\n",
    "        ],\n",
    "        'layout': {\n",
    "            'title': 'Gráfico de Candles das Ações AAPL e MSFT',\n",
    "            'xaxis': {'title': 'Data'},\n",
    "            'yaxis': {'title': 'Preço de Fechamento'}\n",
    "        }\n",
    "    }\n",
    "\n",
    "if __name__ == '__main__':\n",
    "    app.run_server(debug=True)\n"
   ]
  },
  {
   "cell_type": "code",
   "execution_count": null,
   "metadata": {},
   "outputs": [],
   "source": [
    "import yfinance as yf\n",
    "import plotly.graph_objs as go\n",
    "import dash\n",
    "import dash_core_components as dcc\n",
    "import dash_html_components as html\n",
    "\n",
    "# Obtendo os dados históricos da ação do Facebook\n",
    "acao_facebook = yf.download('FB', start='2022-01-01', end='2023-01-01')\n",
    "\n",
    "# Criando o aplicativo Flask com Dash\n",
    "app = dash.Dash(__name__)\n",
    "\n",
    "# Layout do aplicativo\n",
    "app.layout = html.Div([\n",
    "    html.H1(\"Gráfico de Candles da Ação do Facebook (FB)\"),\n",
    "    dcc.Graph(\n",
    "        id='candlestick-plot',\n",
    "        figure={\n",
    "            'data': [\n",
    "                go.Candlestick(\n",
    "                    x=acao_facebook.index,\n",
    "                    open=acao_facebook['Open'],\n",
    "                    high=acao_facebook['High'],\n",
    "                    low=acao_facebook['Low'],\n",
    "                    close=acao_facebook['Close'],\n",
    "                    name='FB'\n",
    "                )\n",
    "            ],\n",
    "            'layout': {\n",
    "                'title': 'Gráfico de Candles da Ação do Facebook (FB)',\n",
    "                'xaxis': {'title': 'Data'},\n",
    "                'yaxis': {'title': 'Preço'},\n",
    "                'yaxis2': {'title': 'Volume', 'overlaying': 'y', 'side': 'right'}\n",
    "            }\n",
    "        }\n",
    "    )\n",
    "])\n",
    "\n",
    "if __name__ == '__main__':\n",
    "    app.run_server(debug=True)"
   ]
  },
  {
   "cell_type": "code",
   "execution_count": 1,
   "metadata": {},
   "outputs": [
    {
     "name": "stdout",
     "output_type": "stream",
     "text": [
      "[*********************100%***********************]  1 of 1 completed\n",
      "\n",
      "1 Failed download:\n",
      "- FB: No timezone found, symbol may be delisted\n",
      " * Serving Flask app '__main__'\n",
      " * Debug mode: on\n"
     ]
    },
    {
     "name": "stderr",
     "output_type": "stream",
     "text": [
      "WARNING: This is a development server. Do not use it in a production deployment. Use a production WSGI server instead.\n",
      " * Running on http://127.0.0.1:5000\n",
      "Press CTRL+C to quit\n",
      " * Restarting with watchdog (windowsapi)\n"
     ]
    },
    {
     "ename": "SystemExit",
     "evalue": "1",
     "output_type": "error",
     "traceback": [
      "An exception has occurred, use %tb to see the full traceback.\n",
      "\u001b[1;31mSystemExit\u001b[0m\u001b[1;31m:\u001b[0m 1\n"
     ]
    },
    {
     "name": "stderr",
     "output_type": "stream",
     "text": [
      "c:\\Users\\Caíque Miranda\\AppData\\Local\\Programs\\Python\\Python310\\lib\\site-packages\\IPython\\core\\interactiveshell.py:3406: UserWarning: To exit: use 'exit', 'quit', or Ctrl-D.\n",
      "  warn(\"To exit: use 'exit', 'quit', or Ctrl-D.\", stacklevel=1)\n"
     ]
    }
   ],
   "source": [
    "import yfinance as yf\n",
    "import plotly.graph_objects as go\n",
    "from flask import Flask, render_template\n",
    "\n",
    "# Obtendo os dados históricos da ação do Facebook\n",
    "acao_facebook = yf.download('FB', start='2022-01-01', end='2023-01-01')\n",
    "\n",
    "# Criando o aplicativo Flask\n",
    "app = Flask(__name__)\n",
    "\n",
    "# Rota para renderizar o gráfico de candles da ação do Facebook\n",
    "@app.route('/')\n",
    "def plot_candlestick():\n",
    "    fig = go.Figure(data=[go.Candlestick(x=acao_facebook.index,\n",
    "                                        open=acao_facebook['Open'],\n",
    "                                        high=acao_facebook['High'],\n",
    "                                        low=acao_facebook['Low'],\n",
    "                                        close=acao_facebook['Close'])])\n",
    "\n",
    "    fig.update_layout(title='Gráfico de Candles da Ação do Facebook (FB)',\n",
    "                      xaxis_title='Data',\n",
    "                      yaxis_title='Preço',\n",
    "                      yaxis2_title='Volume',\n",
    "                      yaxis2=dict(overlaying='y', side='right'))\n",
    "\n",
    "    return render_template('candlestick_plot.html', plot=fig.to_html())\n",
    "\n",
    "if __name__ == '__main__':\n",
    "    app.run(debug=True)"
   ]
  },
  {
   "cell_type": "code",
   "execution_count": null,
   "metadata": {},
   "outputs": [],
   "source": []
  }
 ],
 "metadata": {
  "kernelspec": {
   "display_name": "Python 3",
   "language": "python",
   "name": "python3"
  },
  "language_info": {
   "codemirror_mode": {
    "name": "ipython",
    "version": 3
   },
   "file_extension": ".py",
   "mimetype": "text/x-python",
   "name": "python",
   "nbconvert_exporter": "python",
   "pygments_lexer": "ipython3",
   "version": "3.10.5"
  },
  "orig_nbformat": 4
 },
 "nbformat": 4,
 "nbformat_minor": 2
}
